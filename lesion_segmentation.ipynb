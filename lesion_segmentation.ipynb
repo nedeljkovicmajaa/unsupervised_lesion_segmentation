{
 "cells": [
  {
   "cell_type": "markdown",
   "metadata": {},
   "source": [
    "Loading necessary libraries"
   ]
  },
  {
   "cell_type": "code",
   "execution_count": 1,
   "metadata": {},
   "outputs": [],
   "source": [
    "import warnings\n",
    "warnings.filterwarnings(\"ignore\")"
   ]
  },
  {
   "cell_type": "code",
   "execution_count": 2,
   "metadata": {},
   "outputs": [],
   "source": [
    "import numpy as np\n",
    "import matplotlib.pyplot as plt\n",
    "import os\n",
    "import nibabel as nib\n",
    "import cv2\n",
    "import h5py\n",
    "import random\n",
    "import itertools"
   ]
  },
  {
   "cell_type": "code",
   "execution_count": 3,
   "metadata": {},
   "outputs": [],
   "source": [
    "import torch\n",
    "import torch.nn as nn\n",
    "import torch.optim as optim\n",
    "import torch.nn.functional as F\n",
    "from torchvision import datasets, transforms\n",
    "from torch.utils.data import DataLoader, Dataset\n",
    "from torch.autograd import Variable\n",
    "from torchvision.utils import save_image\n",
    "\n",
    "from sklearn.metrics import roc_auc_score, average_precision_score"
   ]
  },
  {
   "cell_type": "markdown",
   "metadata": {},
   "source": [
    "Check the device"
   ]
  },
  {
   "cell_type": "code",
   "execution_count": 4,
   "metadata": {},
   "outputs": [
    {
     "data": {
      "text/plain": [
       "'cuda'"
      ]
     },
     "execution_count": 4,
     "metadata": {},
     "output_type": "execute_result"
    }
   ],
   "source": [
    "device = \"cuda\" if torch.cuda.is_available() else \"cpu\"\n",
    "device"
   ]
  },
  {
   "cell_type": "markdown",
   "metadata": {},
   "source": [
    "Model parameters"
   ]
  },
  {
   "cell_type": "code",
   "execution_count": 5,
   "metadata": {},
   "outputs": [],
   "source": [
    "learning_rate = 0.0001\n",
    "num_epochs = 20\n",
    "batch_size = 128"
   ]
  },
  {
   "cell_type": "markdown",
   "metadata": {},
   "source": [
    "## Loading all data"
   ]
  },
  {
   "cell_type": "markdown",
   "metadata": {},
   "source": [
    "### Loading IXI-T2 dataset"
   ]
  },
  {
   "cell_type": "markdown",
   "metadata": {},
   "source": [
    "This database consists of images of healthy subjects and is used only to train the model."
   ]
  },
  {
   "cell_type": "code",
   "execution_count": 811,
   "metadata": {},
   "outputs": [
    {
     "ename": "KeyboardInterrupt",
     "evalue": "",
     "output_type": "error",
     "traceback": [
      "\u001b[1;31m---------------------------------------------------------------------------\u001b[0m",
      "\u001b[1;31mKeyboardInterrupt\u001b[0m                         Traceback (most recent call last)",
      "\u001b[1;32m<ipython-input-811-e29d01665abc>\u001b[0m in \u001b[0;36m<module>\u001b[1;34m\u001b[0m\n\u001b[0;32m      9\u001b[0m     \u001b[0mimage_array\u001b[0m \u001b[1;33m=\u001b[0m \u001b[0mimage_nii\u001b[0m\u001b[1;33m.\u001b[0m\u001b[0mget_fdata\u001b[0m\u001b[1;33m(\u001b[0m\u001b[1;33m)\u001b[0m\u001b[1;33m\u001b[0m\u001b[1;33m\u001b[0m\u001b[0m\n\u001b[0;32m     10\u001b[0m \u001b[1;33m\u001b[0m\u001b[0m\n\u001b[1;32m---> 11\u001b[1;33m     \u001b[1;32mfor\u001b[0m \u001b[0mi\u001b[0m \u001b[1;32min\u001b[0m \u001b[0mrange\u001b[0m\u001b[1;33m(\u001b[0m\u001b[0mimage_array\u001b[0m\u001b[1;33m.\u001b[0m\u001b[0mshape\u001b[0m\u001b[1;33m[\u001b[0m\u001b[1;36m2\u001b[0m\u001b[1;33m]\u001b[0m\u001b[1;33m)\u001b[0m\u001b[1;33m:\u001b[0m\u001b[1;33m\u001b[0m\u001b[1;33m\u001b[0m\u001b[0m\n\u001b[0m\u001b[0;32m     12\u001b[0m         \u001b[0mslice_image\u001b[0m \u001b[1;33m=\u001b[0m \u001b[0mimage_array\u001b[0m\u001b[1;33m[\u001b[0m\u001b[1;33m:\u001b[0m\u001b[1;33m,\u001b[0m \u001b[1;33m:\u001b[0m\u001b[1;33m,\u001b[0m \u001b[0mi\u001b[0m\u001b[1;33m]\u001b[0m\u001b[1;33m\u001b[0m\u001b[1;33m\u001b[0m\u001b[0m\n\u001b[0;32m     13\u001b[0m         \u001b[0mslice_image\u001b[0m \u001b[1;33m=\u001b[0m \u001b[1;33m(\u001b[0m\u001b[0mslice_image\u001b[0m \u001b[1;33m-\u001b[0m \u001b[0mnp\u001b[0m\u001b[1;33m.\u001b[0m\u001b[0mmin\u001b[0m\u001b[1;33m(\u001b[0m\u001b[0mslice_image\u001b[0m\u001b[1;33m)\u001b[0m\u001b[1;33m)\u001b[0m \u001b[1;33m/\u001b[0m \u001b[1;33m(\u001b[0m\u001b[0mnp\u001b[0m\u001b[1;33m.\u001b[0m\u001b[0mmax\u001b[0m\u001b[1;33m(\u001b[0m\u001b[0mslice_image\u001b[0m\u001b[1;33m)\u001b[0m \u001b[1;33m-\u001b[0m \u001b[0mnp\u001b[0m\u001b[1;33m.\u001b[0m\u001b[0mmin\u001b[0m\u001b[1;33m(\u001b[0m\u001b[0mslice_image\u001b[0m\u001b[1;33m)\u001b[0m\u001b[1;33m)\u001b[0m\u001b[1;33m\u001b[0m\u001b[1;33m\u001b[0m\u001b[0m\n",
      "\u001b[1;31mKeyboardInterrupt\u001b[0m: "
     ]
    }
   ],
   "source": [
    "data_path = 'IXI-T2'    # path to the dataset\n",
    "data_files = [f for f in os.listdir(data_path) if f.endswith('.nii.gz')]\n",
    "all_data = []\n",
    "\n",
    "# load data for the first 250 subjects\n",
    "for data_file_id in range(250):\n",
    "    file_path = os.path.join(data_path, data_files[data_file_id])\n",
    "    image_nii = nib.load(file_path)\n",
    "    image_array = image_nii.get_fdata()\n",
    "\n",
    "    for i in range(image_array.shape[2]):\n",
    "        slice_image = image_array[:, :, i]\n",
    "        slice_image = (slice_image - np.min(slice_image)) / (np.max(slice_image) - np.min(slice_image))\n",
    "        slice_image = cv2.resize(slice_image, (128, 128))\n",
    "        all_data.append(slice_image)"
   ]
  },
  {
   "cell_type": "markdown",
   "metadata": {},
   "source": [
    "Form train and test datasets for training the model and checking the reconstruction performance on the unknown data."
   ]
  },
  {
   "cell_type": "code",
   "execution_count": null,
   "metadata": {},
   "outputs": [],
   "source": [
    "train_dataset = np.array(all_data)\n",
    "train_dataset = train_dataset[:, np.newaxis, :, :]\n",
    "train_dataset = torch.from_numpy(train_dataset).float()\n",
    "\n",
    "train_size = int(0.9 * len(train_dataset))\n",
    "val_size = len(train_dataset) - train_size\n",
    "train_dataset_ixi, test_dataset_ixi = torch.utils.data.random_split(train_dataset, [train_size, val_size])"
   ]
  },
  {
   "cell_type": "markdown",
   "metadata": {},
   "source": [
    "Form dataloaders for training and testing."
   ]
  },
  {
   "cell_type": "code",
   "execution_count": null,
   "metadata": {},
   "outputs": [],
   "source": [
    "train_loader_ixi = DataLoader(train_dataset_ixi, batch_size=batch_size, shuffle=True)\n",
    "test_loader_ixi = DataLoader(test_dataset_ixi, batch_size=batch_size, shuffle=True)"
   ]
  },
  {
   "cell_type": "markdown",
   "metadata": {},
   "source": [
    "### Loading BRATS dataset"
   ]
  },
  {
   "cell_type": "markdown",
   "metadata": {},
   "source": [
    "This database consists of images of patients with brain tumors and healthy subjects, and is used to train and test the model, depending on the type of the data."
   ]
  },
  {
   "cell_type": "code",
   "execution_count": 6,
   "metadata": {},
   "outputs": [
    {
     "name": "stdout",
     "output_type": "stream",
     "text": [
      "Found 57195 .h5 files:\n",
      "Example file names:['volume_100_slice_0.h5', 'volume_100_slice_1.h5', 'volume_100_slice_10.h5']\n",
      "\n",
      "Keys for each file: ['image', 'mask']\n",
      "\n",
      "Data type of image: <class 'numpy.ndarray'>\n",
      "Shape of image: (240, 240, 4)\n",
      "Array dtype: float64\n",
      "Array max val: 4.755863264388587\n",
      "Array min val: -0.5070322108800785\n",
      "\n",
      "Data type of mask: <class 'numpy.ndarray'>\n",
      "Shape of mask: (240, 240, 3)\n",
      "Array dtype: uint8\n",
      "Array max val: 1\n",
      "Array min val: 0\n"
     ]
    }
   ],
   "source": [
    "# new line \n",
    "directory = 'archive/BraTS2020_training_data/content/data'\n",
    "\n",
    "# Create a list of all .h5 files in the directory\n",
    "h5_files = [f for f in os.listdir(directory) if f.endswith('.h5')]\n",
    "print(f\"Found {len(h5_files)} .h5 files:\\nExample file names:{h5_files[:3]}\")\n",
    "\n",
    "# Open the first .h5 file in the list to inspect its contents\n",
    "if h5_files:\n",
    "    file_path = os.path.join(directory, h5_files[25070])\n",
    "    with h5py.File(file_path, 'r') as file:\n",
    "        print(\"\\nKeys for each file:\", list(file.keys()))\n",
    "        for key in file.keys():\n",
    "            print(f\"\\nData type of {key}:\", type(file[key][()]))\n",
    "            print(f\"Shape of {key}:\", file[key].shape)\n",
    "            print(f\"Array dtype: {file[key].dtype}\")\n",
    "            print(f\"Array max val: {np.max(file[key])}\")\n",
    "            print(f\"Array min val: {np.min(file[key])}\")\n",
    "else:\n",
    "    print(\"No .h5 files found in the directory.\")"
   ]
  },
  {
   "cell_type": "code",
   "execution_count": null,
   "metadata": {},
   "outputs": [],
   "source": [
    "data_brats_tumor = {'img': [], 'mask': []}\n",
    "data_brats_normal = {'img': []}\n",
    "\n",
    "for file in h5_files:\n",
    "    file_path = os.path.join(directory, file)\n",
    "    with h5py.File(file_path, 'r') as file:\n",
    "        image = file['image'][()]\n",
    "        image = (image - np.min(image)) / (np.max(image) - np.min(image))\n",
    "        image = cv2.resize(image, (128, 128))\n",
    "        mask = file['mask'][()]\n",
    "        mask = cv2.resize(mask, (128, 128))\n",
    "\n",
    "        image = image.transpose(2, 0, 1)\n",
    "        mask = mask.transpose(2, 0, 1)\n",
    "\n",
    "        image = image[2, :, :]\n",
    "        mask = mask[2, :, :]\n",
    "\n",
    "        if np.max(mask) != 0:\n",
    "            data_brats_tumor['img'].append(image)\n",
    "            data_brats_tumor['mask'].append(mask)\n",
    "        else:\n",
    "            data_brats_normal['img'].append(image)"
   ]
  },
  {
   "cell_type": "code",
   "execution_count": null,
   "metadata": {},
   "outputs": [],
   "source": [
    "data_brats_tumor['img'] = np.array(data_brats_tumor['img'])\n",
    "data_brats_tumor['mask'] = np.array(data_brats_tumor['mask'])\n",
    "data_brats_normal['img'] = np.array(data_brats_normal['img'])"
   ]
  },
  {
   "cell_type": "code",
   "execution_count": null,
   "metadata": {},
   "outputs": [
    {
     "name": "stdout",
     "output_type": "stream",
     "text": [
      "(14117, 128, 128)\n",
      "(14117, 128, 128)\n",
      "(43078, 128, 128)\n"
     ]
    },
    {
     "data": {
      "text/plain": [
       "(None, None, None)"
      ]
     },
     "execution_count": 10,
     "metadata": {},
     "output_type": "execute_result"
    }
   ],
   "source": [
    "print(data_brats_tumor['img'].shape), print(data_brats_tumor['mask'].shape), print(data_brats_normal['img'].shape)"
   ]
  },
  {
   "cell_type": "code",
   "execution_count": null,
   "metadata": {},
   "outputs": [],
   "source": [
    "data_brats_normal_loader_1 = DataLoader(data_brats_normal['img'][:len(data_brats_normal['img'])//4], batch_size=batch_size, shuffle=True)\n",
    "data_brats_normal_loader_2 = DataLoader(data_brats_normal['img'][len(data_brats_normal['img'])//4:len(data_brats_normal['img'])//2], batch_size=batch_size, shuffle=True)\n",
    "data_brats_normal_loader_3 = DataLoader(data_brats_normal['img'][len(data_brats_normal['img'])//2:3*len(data_brats_normal['img'])//4], batch_size=batch_size, shuffle=True)\n",
    "data_brats_normal_loader_4 = DataLoader(data_brats_normal['img'][3*len(data_brats_normal['img'])//4:], batch_size=batch_size, shuffle=True)"
   ]
  },
  {
   "cell_type": "code",
   "execution_count": null,
   "metadata": {},
   "outputs": [],
   "source": [
    "torch.save(data_brats_normal_loader_1, 'data_brats_normal_loader_1.pth')\n",
    "torch.save(data_brats_normal_loader_4, 'data_brats_normal_loader_2.pth')\n",
    "torch.save(data_brats_normal_loader_3, 'data_brats_normal_loader_3.pth')\n",
    "torch.save(data_brats_normal_loader_4, 'data_brats_normal_loader_4.pth')"
   ]
  },
  {
   "cell_type": "code",
   "execution_count": null,
   "metadata": {},
   "outputs": [],
   "source": [
    "data_brats_tumor_img_loader = DataLoader(data_brats_tumor['img'], batch_size=1, shuffle=True)\n",
    "data_brats_tumor_mask_loader = DataLoader(data_brats_tumor['mask'], batch_size=1, shuffle=True)"
   ]
  },
  {
   "cell_type": "code",
   "execution_count": null,
   "metadata": {},
   "outputs": [],
   "source": [
    "torch.save(data_brats_tumor_img_loader, 'data_brats_tumor_img_loader.pth')\n",
    "torch.save(data_brats_tumor_mask_loader, 'data_brats_tumor_mask_loader.pth')"
   ]
  },
  {
   "cell_type": "markdown",
   "metadata": {},
   "source": [
    "## Loading saved train and test dataloaders"
   ]
  },
  {
   "cell_type": "markdown",
   "metadata": {},
   "source": [
    "Normal data for training from BRATS dataset"
   ]
  },
  {
   "cell_type": "code",
   "execution_count": 7,
   "metadata": {},
   "outputs": [],
   "source": [
    "normal_brats = torch.load('brats_final_data/normal.pth')\n",
    "normal_brats = normal_brats[0, 0, :, :]"
   ]
  },
  {
   "cell_type": "code",
   "execution_count": 15,
   "metadata": {},
   "outputs": [],
   "source": [
    "train_loader_normal = DataLoader(normal_brats, batch_size=batch_size, shuffle=True)"
   ]
  },
  {
   "cell_type": "markdown",
   "metadata": {},
   "source": [
    "Tumor data for evaluation from BRATS dataset"
   ]
  },
  {
   "cell_type": "code",
   "execution_count": 8,
   "metadata": {},
   "outputs": [],
   "source": [
    "bad = torch.load('brats_final_data/bad_images_0.6.pth')\n",
    "bad = DataLoader(bad, batch_size=1, shuffle=False)\n",
    "mask_bad = torch.load('brats_final_data/bad_masks_0.6.pth')"
   ]
  },
  {
   "cell_type": "markdown",
   "metadata": {},
   "source": [
    "Bigger dataset"
   ]
  },
  {
   "cell_type": "code",
   "execution_count": null,
   "metadata": {},
   "outputs": [],
   "source": [
    "bad_new = torch.load('data_brats_tumor_img_loader.pth')\n",
    "mask_bad_new = torch.load('data_brats_tumor_mask_loader.pth')"
   ]
  },
  {
   "cell_type": "code",
   "execution_count": null,
   "metadata": {},
   "outputs": [],
   "source": [
    "bad_new = bad_new.dataset\n",
    "bad_new = bad_new[:, np.newaxis, np.newaxis, :, :]\n",
    "bad_new = torch.from_numpy(bad_new).float()\n",
    "bad_new = DataLoader(bad_new, batch_size=1, shuffle=False)"
   ]
  },
  {
   "cell_type": "code",
   "execution_count": null,
   "metadata": {},
   "outputs": [],
   "source": [
    "mask_bad_new = mask_bad_new.dataset\n",
    "mask_bad_new = mask_bad_new.astype(np.float32)"
   ]
  },
  {
   "cell_type": "markdown",
   "metadata": {},
   "source": [
    "## Variational autoencoder models"
   ]
  },
  {
   "cell_type": "markdown",
   "metadata": {},
   "source": [
    "### Arhitecture 1"
   ]
  },
  {
   "cell_type": "code",
   "execution_count": 17,
   "metadata": {},
   "outputs": [],
   "source": [
    "class Encoder(nn.Module):\n",
    "    def __init__(self):\n",
    "        super(Encoder, self).__init__()\n",
    "        self.conv1 = nn.Conv2d(1, 16, 3, stride=2, padding=1)\n",
    "        self.bn1 = nn.BatchNorm2d(16)\n",
    "        self.conv2 = nn.Conv2d(16, 32, 3, stride=2, padding=1)\n",
    "        self.bn2 = nn.BatchNorm2d(32)\n",
    "        self.conv3 = nn.Conv2d(32, 64, 3, stride=2, padding=1)\n",
    "        self.bn3 = nn.BatchNorm2d(64)\n",
    "        self.conv4 = nn.Conv2d(64, 128, 3, stride=2, padding=1)\n",
    "        self.bn4 = nn.BatchNorm2d(128)\n",
    "        self.conv5 = nn.Conv2d(128, 256, 3, stride=2, padding=1)\n",
    "        self.fc1 = nn.Linear(256 * 4 * 4, 16)  \n",
    "        self.fc2 = nn.Linear(256 * 4 * 4, 16)\n",
    "\n",
    "    def forward(self, x):\n",
    "        x = F.relu(self.bn1(self.conv1(x)))\n",
    "        x = F.relu(self.bn2(self.conv2(x)))\n",
    "        x = F.relu(self.bn3(self.conv3(x)))\n",
    "        x = F.relu(self.bn4(self.conv4(x)))\n",
    "        x = F.relu(self.conv5(x))\n",
    "        x = x.view(x.size(0), -1)\n",
    "        mu = self.fc1(x)\n",
    "        log_var = self.fc2(x)\n",
    "        return mu, log_var\n",
    "\n",
    "class Decoder(nn.Module):\n",
    "    def __init__(self):\n",
    "        super(Decoder, self).__init__()\n",
    "        self.fc = nn.Linear(16, 256 * 4 * 4)\n",
    "        self.deconv1 = nn.ConvTranspose2d(256, 128, 3, stride=2, padding=1, output_padding=1)\n",
    "        self.bn1 = nn.BatchNorm2d(128)\n",
    "        self.deconv2 = nn.ConvTranspose2d(128, 64, 3, stride=2, padding=1, output_padding=1)\n",
    "        self.bn2 = nn.BatchNorm2d(64)\n",
    "        self.deconv3 = nn.ConvTranspose2d(64, 32, 3, stride=2, padding=1, output_padding=1)\n",
    "        self.bn3 = nn.BatchNorm2d(32)\n",
    "        self.deconv4 = nn.ConvTranspose2d(32, 16, 3, stride=2, padding=1, output_padding=1)\n",
    "        self.bn4 = nn.BatchNorm2d(16)\n",
    "        self.deconv5 = nn.ConvTranspose2d(16, 1, 3, stride=2, padding=1, output_padding=1)\n",
    "\n",
    "    def forward(self, x):\n",
    "        x = F.relu(self.fc(x))\n",
    "        x = x.view(x.size(0), 256, 4, 4)\n",
    "        x = F.relu(self.bn1(self.deconv1(x)))\n",
    "        x = F.relu(self.bn2(self.deconv2(x)))\n",
    "        x = F.relu(self.bn3(self.deconv3(x)))\n",
    "        x = F.relu(self.bn4(self.deconv4(x)))\n",
    "        x = torch.sigmoid(self.deconv5(x))\n",
    "        return x\n",
    "\n",
    "class VAE(nn.Module):\n",
    "    def __init__(self):\n",
    "        super(VAE, self).__init__()\n",
    "        self.encoder = Encoder()\n",
    "        self.decoder = Decoder()\n",
    "\n",
    "    def forward(self, x):\n",
    "        mu, log_var = self.encoder(x)\n",
    "        z = self.reparameterize(mu, log_var)\n",
    "        x_reconst = self.decoder(z)\n",
    "        return x_reconst, mu, log_var\n",
    "\n",
    "    def reparameterize(self, mu, log_var):\n",
    "        std = torch.exp(0.5 * log_var)\n",
    "        eps = torch.randn_like(std)\n",
    "        return mu + eps * std\n",
    "\n",
    "def loss_function(recon_x, x, mu, log_var):\n",
    "    BCE = F.binary_cross_entropy(recon_x, x, size_average=False)\n",
    "    KLD = -0.5 * torch.sum(1 + log_var - mu.pow(2) - log_var.exp())\n",
    "    return BCE + KLD"
   ]
  },
  {
   "cell_type": "markdown",
   "metadata": {},
   "source": [
    "### Arhitecture 2"
   ]
  },
  {
   "cell_type": "code",
   "execution_count": 18,
   "metadata": {},
   "outputs": [],
   "source": [
    "class Encoder(nn.Module):\n",
    "    def __init__(self):\n",
    "        super(Encoder, self).__init__()\n",
    "        self.conv1 = nn.Conv2d(1, 32, 5, stride=2, padding=2)\n",
    "        self.bn1 = nn.BatchNorm2d(32)\n",
    "        self.conv2 = nn.Conv2d(32, 64, 5, stride=2, padding=2)\n",
    "        self.bn2 = nn.BatchNorm2d(64)\n",
    "        self.conv3 = nn.Conv2d(64, 128, 5, stride=2, padding=2)\n",
    "        self.bn3 = nn.BatchNorm2d(128)\n",
    "        self.conv4 = nn.Conv2d(128, 128, 5, stride=2, padding=2)\n",
    "        self.bn4 = nn.BatchNorm2d(128)\n",
    "        self.conv5 = nn.Conv2d(128, 16, 1, stride=1, padding=0)\n",
    "        self.bn5 = nn.BatchNorm2d(16)\n",
    "        self.flatten = nn.Flatten()\n",
    "        self.fc1 = nn.Linear(16 * 8 * 8, 1024)\n",
    "        self.fc2 = nn.Linear(16 * 8 * 8, 1024)\n",
    "\n",
    "    def forward(self, x):\n",
    "        x = F.leaky_relu(self.bn1(self.conv1(x)))\n",
    "        x = F.leaky_relu(self.bn2(self.conv2(x)))\n",
    "        x = F.leaky_relu(self.bn3(self.conv3(x)))\n",
    "        x = F.leaky_relu(self.bn4(self.conv4(x)))\n",
    "        x = F.leaky_relu(self.bn5(self.conv5(x)))\n",
    "        x = self.flatten(x)\n",
    "        mu = self.fc1(x)\n",
    "        log_var = self.fc2(x)\n",
    "        return mu, log_var\n",
    "\n",
    "class Decoder(nn.Module):\n",
    "    def __init__(self):\n",
    "        super(Decoder, self).__init__()\n",
    "        self.fc = nn.Linear(1024, 16 * 8 * 8)\n",
    "        self.deconv1 = nn.ConvTranspose2d(16, 128, 1, stride=1, padding=0)\n",
    "        self.bn1 = nn.BatchNorm2d(128)\n",
    "        self.deconv2 = nn.ConvTranspose2d(128, 128, 5, stride=2, padding=2, output_padding=1)\n",
    "        self.bn2 = nn.BatchNorm2d(128)\n",
    "        self.deconv3 = nn.ConvTranspose2d(128, 64, 5, stride=2, padding=2, output_padding=1)\n",
    "        self.bn3 = nn.BatchNorm2d(64)\n",
    "        self.deconv4 = nn.ConvTranspose2d(64, 32, 5, stride=2, padding=2, output_padding=1)\n",
    "        self.bn4 = nn.BatchNorm2d(32)\n",
    "        self.deconv5 = nn.ConvTranspose2d(32, 1, 5, stride=2, padding=2, output_padding=1)\n",
    "\n",
    "    def forward(self, x):\n",
    "        x = F.relu(self.fc(x))\n",
    "        x = x.view(x.size(0), 16, 8, 8)\n",
    "        x = F.relu(self.bn1(self.deconv1(x)))\n",
    "        x = F.relu(self.bn2(self.deconv2(x)))\n",
    "        x = F.relu(self.bn3(self.deconv3(x)))\n",
    "        x = F.relu(self.bn4(self.deconv4(x)))\n",
    "        x = torch.sigmoid(self.deconv5(x))\n",
    "        return x\n",
    "\n",
    "class VAE(nn.Module):\n",
    "    def __init__(self):\n",
    "        super(VAE, self).__init__()\n",
    "        self.encoder = Encoder()\n",
    "        self.decoder = Decoder()\n",
    "\n",
    "    def reparameterize(self, mu, log_var):\n",
    "        std = torch.exp(0.5 * log_var)\n",
    "        eps = torch.randn_like(std)\n",
    "        return mu + eps * std\n",
    "\n",
    "    def forward(self, x):\n",
    "        mu, log_var = self.encoder(x)\n",
    "        z = self.reparameterize(mu, log_var)\n",
    "        x_reconst = self.decoder(z)\n",
    "        return x_reconst, mu, log_var"
   ]
  },
  {
   "cell_type": "markdown",
   "metadata": {},
   "source": [
    "## Gaussian Mixture Variational Autoencoder models"
   ]
  },
  {
   "cell_type": "markdown",
   "metadata": {},
   "source": [
    "### Arhitecture 1"
   ]
  },
  {
   "cell_type": "code",
   "execution_count": 27,
   "metadata": {},
   "outputs": [],
   "source": [
    "class Encoder(nn.Module):\n",
    "    def __init__(self, input_dim, hidden_dim, z_dim, n_components):\n",
    "        super(Encoder, self).__init__()\n",
    "        self.conv1 = nn.Conv2d(1, 16, 3, stride=2, padding=1)\n",
    "        self.bn1 = nn.BatchNorm2d(16)\n",
    "        self.conv2 = nn.Conv2d(16, 32, 3, stride=2, padding=1)\n",
    "        self.bn2 = nn.BatchNorm2d(32)\n",
    "        self.conv3 = nn.Conv2d(32, 64, 3, stride=2, padding=1)\n",
    "        self.bn3 = nn.BatchNorm2d(64)\n",
    "        self.conv4 = nn.Conv2d(64, 128, 3, stride=2, padding=1)\n",
    "        self.bn4 = nn.BatchNorm2d(128)\n",
    "        self.conv5 = nn.Conv2d(128, 256, 3, stride=2, padding=1)\n",
    "\n",
    "        self.fc1 = nn.Linear(256*4*4, hidden_dim)\n",
    "        self.fc_mu = nn.Linear(hidden_dim, z_dim * n_components)\n",
    "        self.fc_logvar = nn.Linear(hidden_dim, z_dim * n_components)\n",
    "        self.fc_pi = nn.Linear(hidden_dim, n_components)\n",
    "        self.n_components = n_components\n",
    "        self.z_dim = z_dim\n",
    "\n",
    "    def forward(self, x):\n",
    "        x = F.relu(self.bn1(self.conv1(x)))\n",
    "        x = F.relu(self.bn2(self.conv2(x)))\n",
    "        x = F.relu(self.bn3(self.conv3(x)))\n",
    "        x = F.relu(self.bn4(self.conv4(x)))\n",
    "        x = F.relu(self.conv5(x))\n",
    "        x = x.view(x.size(0), -1)\n",
    "\n",
    "        h = F.relu(self.fc1(x))\n",
    "        pi = F.softmax(self.fc_pi(h), dim=1)\n",
    "        \n",
    "        mu = self.fc_mu(h).view(-1, self.n_components, self.z_dim)\n",
    "        logvar = self.fc_logvar(h).view(-1, self.n_components, self.z_dim)\n",
    "        return pi, mu, logvar\n",
    "\n",
    "class Decoder(nn.Module):\n",
    "    def __init__(self, z_dim, hidden_dim, output_dim):\n",
    "        super(Decoder, self).__init__()\n",
    "        self.fc1 = nn.Linear(16, 256 * 4 * 4)\n",
    "        self.deconv1 = nn.ConvTranspose2d(256, 128, 3, stride=2, padding=1, output_padding=1)\n",
    "        self.bn1 = nn.BatchNorm2d(128)\n",
    "        self.deconv2 = nn.ConvTranspose2d(128, 64, 3, stride=2, padding=1, output_padding=1)\n",
    "        self.bn2 = nn.BatchNorm2d(64)\n",
    "        self.deconv3 = nn.ConvTranspose2d(64, 32, 3, stride=2, padding=1, output_padding=1)\n",
    "        self.bn3 = nn.BatchNorm2d(32)\n",
    "        self.deconv4 = nn.ConvTranspose2d(32, 16, 3, stride=2, padding=1, output_padding=1)\n",
    "        self.bn4 = nn.BatchNorm2d(16)\n",
    "        self.deconv5 = nn.ConvTranspose2d(16, 1, 3, stride=2, padding=1, output_padding=1)\n",
    "        \n",
    "        self.fc2 = nn.Linear(z_dim, hidden_dim)\n",
    "        self.fc3 = nn.Linear(hidden_dim, output_dim)\n",
    "\n",
    "\n",
    "    def forward(self, z):\n",
    "        x = F.relu(self.fc1(z))\n",
    "        x = x.view(x.size(0), 256, 4, 4)\n",
    "        x = F.relu(self.bn1(self.deconv1(x)))\n",
    "        x = F.relu(self.bn2(self.deconv2(x)))\n",
    "        x = F.relu(self.bn3(self.deconv3(x)))\n",
    "        x = F.relu(self.bn4(self.deconv4(x)))\n",
    "        x = torch.sigmoid(self.deconv5(x))\n",
    "        return x\n",
    "\n",
    "class GMVAE(nn.Module):\n",
    "    def __init__(self, input_dim, hidden_dim, z_dim, n_components):\n",
    "        super(GMVAE, self).__init__()\n",
    "        self.encoder = Encoder(input_dim, hidden_dim, z_dim, n_components)\n",
    "        self.decoder = Decoder(z_dim, hidden_dim, input_dim)\n",
    "        self.n_components = n_components\n",
    "        self.z_dim = z_dim\n",
    "\n",
    "    def reparameterize(self, pi, mu, logvar):\n",
    "        std = torch.exp(0.5 * logvar)\n",
    "        eps = torch.randn_like(std)\n",
    "        z = mu + eps * std  # (batch_size, n_components, z_dim)\n",
    "        z = z.view(-1, self.n_components, self.z_dim)  # Reshape for GMM\n",
    "        z = torch.sum(pi.unsqueeze(-1) * z, dim=1)  # Weighted sum\n",
    "        return z\n",
    "\n",
    "    def forward(self, x):\n",
    "        pi, mu, logvar = self.encoder(x)\n",
    "        z = self.reparameterize(pi, mu, logvar)\n",
    "        x_recon = self.decoder(z)\n",
    "        return x_recon, pi, mu, logvar\n",
    "\n",
    "    def loss_function(self, x, x_recon, pi, mu, logvar):\n",
    "        recon_loss = F.binary_cross_entropy(x_recon, x, reduction='sum')\n",
    "        log_pi = torch.log(pi + 1e-10)\n",
    "        kl_div = -0.5 * torch.sum(1 + logvar - mu.pow(2) - logvar.exp(), dim=-1)\n",
    "        kl_div = torch.sum(pi * kl_div + pi * log_pi, dim=1).mean()\n",
    "        return recon_loss + kl_div"
   ]
  },
  {
   "cell_type": "markdown",
   "metadata": {},
   "source": [
    "### Arhitecture 2"
   ]
  },
  {
   "cell_type": "code",
   "execution_count": null,
   "metadata": {},
   "outputs": [],
   "source": [
    "class Encoder(nn.Module):\n",
    "    def __init__(self, input_dim, hidden_dim, z_dim, n_components):\n",
    "        super(Encoder, self).__init__()\n",
    "        self.conv1 = nn.Conv2d(1, 32, 5, stride=2, padding=2)\n",
    "        self.bn1 = nn.BatchNorm2d(32)\n",
    "        self.conv2 = nn.Conv2d(32, 64, 5, stride=2, padding=2)\n",
    "        self.bn2 = nn.BatchNorm2d(64)\n",
    "        self.conv3 = nn.Conv2d(64, 128, 5, stride=2, padding=2)\n",
    "        self.bn3 = nn.BatchNorm2d(128)\n",
    "        self.conv4 = nn.Conv2d(128, 128, 5, stride=2, padding=2)\n",
    "        self.bn4 = nn.BatchNorm2d(128)\n",
    "        self.conv5 = nn.Conv2d(128, 16, 1, stride=1, padding=0)\n",
    "        self.bn5 = nn.BatchNorm2d(16)\n",
    "        self.flatten = nn.Flatten()\n",
    "    \n",
    "        self.fc1 = nn.Linear(16 * 8 * 8, hidden_dim)\n",
    "        self.fc_mu = nn.Linear(hidden_dim, z_dim * n_components)\n",
    "        self.fc_logvar = nn.Linear(hidden_dim, z_dim * n_components)\n",
    "        self.fc_pi = nn.Linear(hidden_dim, n_components)\n",
    "        self.n_components = n_components\n",
    "        self.z_dim = z_dim\n",
    "\n",
    "    def forward(self, x):\n",
    "        x = F.relu(self.bn1(self.conv1(x)))\n",
    "        x = F.relu(self.bn2(self.conv2(x)))\n",
    "        x = F.relu(self.bn3(self.conv3(x)))\n",
    "        x = F.relu(self.bn4(self.conv4(x)))\n",
    "        x = F.relu(self.conv5(x))\n",
    "        x = x.view(x.size(0), -1)\n",
    "\n",
    "        h = F.relu(self.fc1(x))\n",
    "        pi = F.softmax(self.fc_pi(h), dim=1)\n",
    "        \n",
    "        mu = self.fc_mu(h).view(-1, self.n_components, self.z_dim)\n",
    "        logvar = self.fc_logvar(h).view(-1, self.n_components, self.z_dim)\n",
    "        return pi, mu, logvar\n",
    "\n",
    "class Decoder(nn.Module):\n",
    "    def __init__(self, z_dim, hidden_dim, output_dim):\n",
    "        super(Decoder, self).__init__()\n",
    "        self.fc1 = nn.Linear(16, 16 * 8 * 8)\n",
    "        self.deconv1 = nn.ConvTranspose2d(16, 128, 1, stride=1, padding=0)\n",
    "        self.bn1 = nn.BatchNorm2d(128)\n",
    "        self.deconv2 = nn.ConvTranspose2d(128, 128, 5, stride=2, padding=2, output_padding=1)\n",
    "        self.bn2 = nn.BatchNorm2d(128)\n",
    "        self.deconv3 = nn.ConvTranspose2d(128, 64, 5, stride=2, padding=2, output_padding=1)\n",
    "        self.bn3 = nn.BatchNorm2d(64)\n",
    "        self.deconv4 = nn.ConvTranspose2d(64, 32, 5, stride=2, padding=2, output_padding=1)\n",
    "        self.bn4 = nn.BatchNorm2d(32)\n",
    "        self.deconv5 = nn.ConvTranspose2d(32, 1, 5, stride=2, padding=2, output_padding=1)\n",
    "        \n",
    "        self.fc2 = nn.Linear(z_dim, hidden_dim)\n",
    "        self.fc3 = nn.Linear(hidden_dim, output_dim)\n",
    "\n",
    "\n",
    "    def forward(self, z):\n",
    "        x = F.relu(self.fc1(z))\n",
    "        x = x.view(x.size(0), 16, 8, 8)\n",
    "        x = F.relu(self.bn1(self.deconv1(x)))\n",
    "        x = F.relu(self.bn2(self.deconv2(x)))\n",
    "        x = F.relu(self.bn3(self.deconv3(x)))\n",
    "        x = F.relu(self.bn4(self.deconv4(x)))\n",
    "        x = torch.sigmoid(self.deconv5(x))\n",
    "        return x\n",
    "\n",
    "class GMVAE(nn.Module):\n",
    "    def __init__(self, input_dim, hidden_dim, z_dim, n_components):\n",
    "        super(GMVAE, self).__init__()\n",
    "        self.encoder = Encoder(input_dim, hidden_dim, z_dim, n_components)\n",
    "        self.decoder = Decoder(z_dim, hidden_dim, input_dim)\n",
    "        self.n_components = n_components\n",
    "        self.z_dim = z_dim\n",
    "\n",
    "    def reparameterize(self, pi, mu, logvar):\n",
    "        std = torch.exp(0.5 * logvar)\n",
    "        eps = torch.randn_like(std)\n",
    "        z = mu + eps * std  # (batch_size, n_components, z_dim)\n",
    "        z = z.view(-1, self.n_components, self.z_dim)  # Reshape for GMM\n",
    "        z = torch.sum(pi.unsqueeze(-1) * z, dim=1)  # Weighted sum\n",
    "        return z\n",
    "\n",
    "    def forward(self, x):\n",
    "        pi, mu, logvar = self.encoder(x)\n",
    "        z = self.reparameterize(pi, mu, logvar)\n",
    "        x_recon = self.decoder(z)\n",
    "        return x_recon, pi, mu, logvar\n",
    "\n",
    "    def loss_function(self, x, x_recon, pi, mu, logvar):\n",
    "        recon_loss = F.binary_cross_entropy(x_recon, x, reduction='sum')\n",
    "        log_pi = torch.log(pi + 1e-10)\n",
    "        kl_div = -0.5 * torch.sum(1 + logvar - mu.pow(2) - logvar.exp(), dim=-1)\n",
    "        kl_div = torch.sum(pi * kl_div + pi * log_pi, dim=1).mean()\n",
    "        return recon_loss + kl_div"
   ]
  },
  {
   "cell_type": "markdown",
   "metadata": {},
   "source": [
    "## Training and testing the model"
   ]
  },
  {
   "cell_type": "code",
   "execution_count": 10,
   "metadata": {},
   "outputs": [],
   "source": [
    "def dice_coef(y_true, y_pred):\n",
    "    y_true_f = y_true.flatten()\n",
    "    y_pred_f = y_pred.flatten()\n",
    "    intersection = np.sum(y_true_f * y_pred_f)\n",
    "    return (2. * intersection) / (np.sum(y_true_f) + np.sum(y_pred_f))"
   ]
  },
  {
   "cell_type": "markdown",
   "metadata": {},
   "source": [
    "#### VAE"
   ]
  },
  {
   "cell_type": "code",
   "execution_count": 11,
   "metadata": {},
   "outputs": [],
   "source": [
    "def train_vae(epoch, model, train_loader):\n",
    "    model.train()\n",
    "    train_loss = 0\n",
    "    for batch_idx, data in enumerate(train_loader):\n",
    "        img = data\n",
    "\n",
    "        img = Variable(img)\n",
    "        optimizer.zero_grad()\n",
    "        recon_batch, mu, log_var = model(img)\n",
    "        loss = loss_function(recon_batch, img, mu, log_var)\n",
    "        loss.backward()\n",
    "        train_loss += loss.item()\n",
    "        optimizer.step()\n",
    "        if batch_idx % 100 == 0:\n",
    "            print('Train Epoch: {} [{}/{} ({:.0f}%)]\\tLoss: {:.6f}'.format(\n",
    "                epoch, batch_idx * len(img), len(train_loader.dataset),\n",
    "                100. * batch_idx / len(train_loader),\n",
    "                loss.item() / len(img)))\n",
    "\n",
    "    print('====> Epoch: {} Average loss: {:.4f}'.format(\n",
    "          epoch, train_loss / len(train_loader.dataset)))\n",
    "\n",
    "    return train_loss / len(train_loader.dataset)"
   ]
  },
  {
   "cell_type": "code",
   "execution_count": 12,
   "metadata": {},
   "outputs": [],
   "source": [
    "def test_vae(model, test_loader, test_loader_mask, tresh = 0.1, dim_kernel = 3, iter_morph = 2, name_img = 'name', lista_img = [11,253,877,25,600]):\n",
    "    auc_all, dice_coef_all, auprc_all = [], [], []\n",
    "    test_loss = 0\n",
    "\n",
    "    comparison_all = torch.Tensor()\n",
    "\n",
    "    model.eval()\n",
    "\n",
    "    img_all = []\n",
    "    recon_batch_all = []\n",
    "    mask1_all = []\n",
    "    img_diff_all = []\n",
    "\n",
    "    with torch.no_grad():\n",
    "        for i, data in enumerate(test_loader):\n",
    "            img = data[np.newaxis, :, :]\n",
    "            img = Variable(img)[0, 0, :, :]\n",
    "\n",
    "            # reconstruction\n",
    "            recon_batch, mu, log_var = model(img)\n",
    "\n",
    "            # difference between original and reconstructed image\n",
    "            img_diff = torch.abs((recon_batch - img)**2)\n",
    "\n",
    "            # normalize\n",
    "            img_diff = img_diff - torch.min(img_diff)\n",
    "            img_diff = img_diff / torch.max(img_diff)\n",
    "\n",
    "            # binarize\n",
    "            img_diff[img_diff < tresh], img_diff[img_diff >= tresh] = 0, 1\n",
    "            \n",
    "            #dilate and erode\n",
    "            img_diff = img_diff.view(128, 128).cpu().numpy()\n",
    "            img_diff = cv2.dilate(img_diff, np.ones((dim_kernel, dim_kernel), np.uint8), iterations=iter_morph)\n",
    "            img_diff = cv2.erode(img_diff, np.ones((dim_kernel, dim_kernel), np.uint8), iterations=iter_morph)\n",
    "            img_diff = torch.from_numpy(img_diff).float()\n",
    "            img_diff = img_diff[np.newaxis, np.newaxis, :, :]\n",
    "\n",
    "            # leave only the biggest object\n",
    "            img_diff = img_diff.view(128, 128).cpu().numpy()\n",
    "            img_diff = img_diff[np.newaxis, np.newaxis, :, :]\n",
    "            n_labels, labels, stats, centroids = cv2.connectedComponentsWithStats(img_diff[0, 0].astype(np.uint8))\n",
    "            if np.sum(stats[1:, cv2.CC_STAT_AREA]) != 0:\n",
    "                largest_label = 1 + np.argmax(stats[1:, cv2.CC_STAT_AREA])\n",
    "                img_diff[0][0] = (labels == largest_label).astype(np.float32)\n",
    "            img_diff = torch.from_numpy(img_diff).float()\n",
    "\n",
    "            test_loss += loss_function(recon_batch, img, mu, log_var).item()\n",
    "\n",
    "            mask = np.array(test_loader_mask[i])[np.newaxis, :, :]\n",
    "            mask = torch.from_numpy(mask).float()\n",
    "            mask = mask.view(128, 128).cpu().numpy()\n",
    "\n",
    "            n = min(img.size(0), 8)\n",
    "\n",
    "            img_diff_flatten = img_diff.view(128, 128).cpu().numpy().flatten()\n",
    "\n",
    "            masks_tog = img_diff.view(128, 128).cpu().numpy()*0.7 + mask*0.3\n",
    "            masks_tog = torch.from_numpy(masks_tog).float()\n",
    "            masks_tog = masks_tog[np.newaxis, :, :]\n",
    "\n",
    "            mask1 = torch.from_numpy(mask).float()\n",
    "            mask1 = mask1[np.newaxis, np.newaxis, :, :]\n",
    "\n",
    "            dc = dice_coef(mask.flatten(), img_diff_flatten)\n",
    "            ap = average_precision_score(mask.flatten(), img_diff_flatten)\n",
    "            roc = roc_auc_score(mask.flatten(), img_diff_flatten)\n",
    "\n",
    "            dice_coef_all.append(dc)\n",
    "            auprc_all.append(ap)\n",
    "            auc_all.append(roc)\n",
    "\n",
    "            masks_tog = masks_tog.view(1, 1, 128, 128)\n",
    "            #comparison = torch.cat([img[:n], recon_batch.view(1, 1, 128, 128)[:n], img_diff[:n], mask1[:n]])\n",
    "            #comparison_all = torch.cat([comparison_all, comparison], dim=3)\n",
    "\n",
    "            if i in lista_img:\n",
    "                img_all.append(img)\n",
    "                recon_batch_all.append(recon_batch)\n",
    "                mask1_all.append(mask1)\n",
    "                img_diff_all.append(img_diff)\n",
    "\n",
    "    #save_image(comparison_all.cpu(), 'res/' + name_img + '.png', nrow=n)      \n",
    "    test_loss /= len(test_loader.dataset)\n",
    "    print('====> Test set loss: {:.4f}'.format(test_loss))\n",
    "\n",
    "    print('====> AUC: {:.4f}'.format(np.mean(auc_all)))\n",
    "    print('====> AUPRC: {:.4f}'.format(np.mean(auprc_all)))\n",
    "    print('====> Dice coef: {:.4f}'.format(np.mean(dice_coef_all)))\n",
    "\n",
    "    plt.figure(figsize=(15, 15))\n",
    "    for i in range(4):\n",
    "        plt.subplot(5, 4, i*4 + 1)\n",
    "        plt.imshow(img_all[i].view(128, 128).cpu().numpy(), cmap='gray')\n",
    "        if i == 0:\n",
    "            plt.title('Originalne slike')\n",
    "        plt.axis('off')\n",
    "\n",
    "        plt.subplot(5, 4, i*4 + 2)\n",
    "        plt.imshow(recon_batch_all[i].view(128, 128).cpu().numpy(), cmap='gray')\n",
    "        if i == 0:\n",
    "            plt.title('Rekonstruisane slike')\n",
    "        plt.axis('off')\n",
    "\n",
    "        plt.subplot(5, 4, i*4 + 3)\n",
    "        plt.imshow(mask1_all[i].view(128, 128).cpu().numpy(), cmap='gray')\n",
    "        if i == 0:\n",
    "            plt.title('Originalne maske')\n",
    "        plt.axis('off')\n",
    "\n",
    "        plt.subplot(5, 4, i*4 + 4)\n",
    "        plt.imshow(img_diff_all[i].view(128, 128).cpu().numpy(), cmap='gray')\n",
    "        if i == 0:\n",
    "            plt.title('Dobijene maske')\n",
    "        plt.axis('off')\n",
    "    \n",
    "    plt.show()\n",
    "    \n",
    "    return test_loss, auc_all, auprc_all, dice_coef_all"
   ]
  },
  {
   "cell_type": "markdown",
   "metadata": {},
   "source": [
    "#### GMVAE"
   ]
  },
  {
   "cell_type": "code",
   "execution_count": 25,
   "metadata": {},
   "outputs": [],
   "source": [
    "def train_gmvae(epoch, model, train_loader):\n",
    "    model.train()\n",
    "    train_loss = 0\n",
    "    for batch_idx, data in enumerate(train_loader):\n",
    "        img = data\n",
    "        img = Variable(img)\n",
    "        optimizer.zero_grad()\n",
    "        recon_batch, pi, mu, log_var = model(img)\n",
    "        loss = model.loss_function(img, recon_batch, pi, mu, log_var)\n",
    "        loss.backward()\n",
    "        train_loss += loss.item()\n",
    "        optimizer.step()\n",
    "        if batch_idx % 100 == 0:\n",
    "            print('Train Epoch: {} [{}/{} ({:.0f}%)]\\tLoss: {:.6f}'.format(\n",
    "                epoch, batch_idx * len(img), len(train_loader.dataset),\n",
    "                100. * batch_idx / len(train_loader),\n",
    "                loss.item() / len(img)))\n",
    "\n",
    "    print('====> Epoch: {} Average loss: {:.4f}'.format(\n",
    "          epoch, train_loss / len(train_loader.dataset)))\n",
    "\n",
    "    return train_loss / len(train_loader.dataset)"
   ]
  },
  {
   "cell_type": "code",
   "execution_count": 45,
   "metadata": {},
   "outputs": [],
   "source": [
    "def test_gmvae(model, test_loader, test_loader_mask, tresh = 0.1, dim_kernel = 3, iter_morph = 2, name_img = 'name', plot_pic = False):\n",
    "    all_auc, all_dice, all_auprc = [], [], []\n",
    "    test_loss = 0\n",
    "\n",
    "    comparison_all = torch.Tensor()\n",
    "\n",
    "    model.eval()\n",
    "    with torch.no_grad():\n",
    "        for i, data in enumerate(test_loader):\n",
    "            img = data[0]\n",
    "            img = Variable(img)\n",
    "\n",
    "            # reconstruction\n",
    "            recon_batch, pi, mu, log_var = model(img)\n",
    "\n",
    "            # difference between original and reconstructed image\n",
    "            img_diff = torch.abs((recon_batch - img)**2)\n",
    "\n",
    "            # normalize\n",
    "            img_diff = img_diff - torch.min(img_diff)\n",
    "            img_diff = img_diff / torch.max(img_diff)\n",
    "\n",
    "            # binarize\n",
    "            img_diff[img_diff < tresh], img_diff[img_diff >= tresh] = 0, 1\n",
    "            \n",
    "            #dilate and erode\n",
    "            img_diff = img_diff.view(128, 128).cpu().numpy()\n",
    "            img_diff = cv2.dilate(img_diff, np.ones((dim_kernel, dim_kernel), np.uint8), iterations=iter_morph)\n",
    "            img_diff = cv2.erode(img_diff, np.ones((dim_kernel, dim_kernel), np.uint8), iterations=iter_morph)\n",
    "            img_diff = torch.from_numpy(img_diff).float()\n",
    "            img_diff = img_diff[np.newaxis, np.newaxis, :, :]\n",
    "\n",
    "            # leave only the biggest object\n",
    "            img_diff = img_diff.view(128, 128).cpu().numpy()\n",
    "            img_diff = img_diff[np.newaxis, np.newaxis, :, :]\n",
    "            n_labels, labels, stats, centroids = cv2.connectedComponentsWithStats(img_diff[0, 0].astype(np.uint8))\n",
    "            if np.sum(stats[1:, cv2.CC_STAT_AREA]) != 0:\n",
    "                largest_label = 1 + np.argmax(stats[1:, cv2.CC_STAT_AREA])\n",
    "                img_diff[0][0] = (labels == largest_label).astype(np.float32)\n",
    "            img_diff = torch.from_numpy(img_diff).float()\n",
    "\n",
    "            test_loss += model.loss_function(img, recon_batch, pi, mu, log_var).item()\n",
    "\n",
    "            mask = test_loader_mask[i]\n",
    "            \n",
    "            dc = dice_coef(mask.flatten(), img_diff.view(128, 128).cpu().numpy().flatten())\n",
    "            ap = average_precision_score(mask.flatten(), img_diff.view(128, 128).cpu().numpy().flatten())\n",
    "            roc = roc_auc_score(mask.flatten(), img_diff.view(128, 128).cpu().numpy().flatten())\n",
    "\n",
    "            all_dice.append(dc)\n",
    "            all_auc.append(roc)\n",
    "            all_auprc.append(ap)\n",
    "\n",
    "            if plot_pic and i>900:\n",
    "                plt.figure(figsize=(10,5))\n",
    "                plt.subplot(1, 4, 1)\n",
    "                plt.imshow(img.view(128, 128).cpu().numpy(), cmap='gray')\n",
    "                plt.subplot(1, 4, 2)\n",
    "                plt.imshow(recon_batch.view(128, 128).cpu().numpy(), cmap='gray')\n",
    "                plt.subplot(1, 4, 3)\n",
    "                plt.imshow(img_diff.view(128, 128).cpu().numpy(), cmap='gray')\n",
    "                plt.subplot(1, 4, 4)\n",
    "                plt.imshow(mask, cmap='gray')\n",
    "                plt.show()\n",
    "\n",
    "    test_loss /= len(test_loader.dataset)\n",
    "    print('====> Test set loss: {:.4f}'.format(test_loss))\n",
    "    print(f'Test loss: {test_loss}')\n",
    "    print(f'Dice coef: {np.mean(all_dice)}')\n",
    "    print(f'AUC: {np.mean(all_auc)}')\n",
    "    print(f'AUPRC: {np.mean(all_auprc)}')\n",
    "\n",
    "    return test_loss, all_auc, all_auprc, all_dice"
   ]
  },
  {
   "cell_type": "markdown",
   "metadata": {},
   "source": [
    "### Evaluation "
   ]
  },
  {
   "cell_type": "markdown",
   "metadata": {},
   "source": [
    "#### VAE"
   ]
  },
  {
   "cell_type": "code",
   "execution_count": 19,
   "metadata": {},
   "outputs": [],
   "source": [
    "model = VAE()\n",
    "optimizer = torch.optim.Adam(model.parameters(), lr=learning_rate)"
   ]
  },
  {
   "cell_type": "code",
   "execution_count": null,
   "metadata": {},
   "outputs": [],
   "source": [
    "total_loss = []\n",
    "for epoch in range(20):\n",
    "    total_loss.append(train_vae(epoch, model, train_loader_normal))"
   ]
  },
  {
   "cell_type": "code",
   "execution_count": null,
   "metadata": {},
   "outputs": [],
   "source": [
    "torch.save(model.state_dict(), 'models/vae2.pth')"
   ]
  },
  {
   "cell_type": "code",
   "execution_count": null,
   "metadata": {},
   "outputs": [
    {
     "data": {
      "image/png": "[encoded data removed]",
      "text/plain": [
       "<Figure size 432x288 with 1 Axes>"
      ]
     },
     "metadata": {
      "needs_background": "light"
     },
     "output_type": "display_data"
    }
   ],
   "source": [
    "plt.figure()\n",
    "plt.plot(total_loss)\n",
    "plt.xlabel('Epoch')\n",
    "plt.ylabel('Loss')\n",
    "plt.title('Training Loss')\n",
    "plt.show()"
   ]
  },
  {
   "cell_type": "markdown",
   "metadata": {},
   "source": [
    "vae1 - dobre - 11,27,530,len(mask_bad)-4\n",
    "     - lose - 100,600,820,1100\n",
    "vae1 100 - dobre - 2,48,750,930\n",
    "         - lose - 0,400,710,1000\n",
    "vae2 - dobre - 50,80,500,900\n",
    "     - lose\n",
    "gmvae1 - dobre \n",
    "       - lose\n",
    "gmvae2 - dobre\n",
    "       - lose\n",
    "         50,80,500"
   ]
  },
  {
   "cell_type": "code",
   "execution_count": null,
   "metadata": {},
   "outputs": [
    {
     "name": "stdout",
     "output_type": "stream",
     "text": [
      "====> Test set loss: 2889.0718\n",
      "====> AUC: 0.7229\n",
      "====> AUPRC: 0.2840\n",
      "====> Dice coef: 0.4665\n"
     ]
    },
    {
     "data": {
      "image/png": "[encoded data removed]",
      "text/plain": [
       "<Figure size 1080x1080 with 16 Axes>"
      ]
     },
     "metadata": {
      "needs_background": "light"
     },
     "output_type": "display_data"
    }
   ],
   "source": [
    "img_name = 'vae1.1.1.aug'\n",
    "test_loss, auc_all, auprc_all, dice_coef_all = test_vae(model, bad, mask_bad, tresh = 0.1, dim_kernel = 2, iter_morph = 2, name_img = img_name, lista_img=[50,80,500,899])"
   ]
  },
  {
   "cell_type": "code",
   "execution_count": 22,
   "metadata": {},
   "outputs": [],
   "source": [
    "image_vae2 = cv2.imread('res/gmvae1.png')"
   ]
  },
  {
   "cell_type": "code",
   "execution_count": 23,
   "metadata": {},
   "outputs": [],
   "source": [
    "k = 158980//(len(bad))"
   ]
  },
  {
   "cell_type": "code",
   "execution_count": 24,
   "metadata": {},
   "outputs": [
    {
     "ename": "TypeError",
     "evalue": "'NoneType' object is not subscriptable",
     "output_type": "error",
     "traceback": [
      "\u001b[1;31m---------------------------------------------------------------------------\u001b[0m",
      "\u001b[1;31mTypeError\u001b[0m                                 Traceback (most recent call last)",
      "\u001b[1;32m<ipython-input-24-ce86bbeb545d>\u001b[0m in \u001b[0;36m<module>\u001b[1;34m\u001b[0m\n\u001b[0;32m      1\u001b[0m \u001b[0mi\u001b[0m\u001b[1;33m=\u001b[0m \u001b[1;36m3\u001b[0m\u001b[1;33m\u001b[0m\u001b[1;33m\u001b[0m\u001b[0m\n\u001b[1;32m----> 2\u001b[1;33m \u001b[0mimg\u001b[0m \u001b[1;33m=\u001b[0m \u001b[0mimage_vae2\u001b[0m\u001b[1;33m[\u001b[0m\u001b[1;33m:\u001b[0m\u001b[1;33m,\u001b[0m \u001b[0mk\u001b[0m\u001b[1;33m*\u001b[0m\u001b[0mi\u001b[0m\u001b[1;33m:\u001b[0m\u001b[1;33m(\u001b[0m\u001b[0mi\u001b[0m\u001b[1;33m+\u001b[0m\u001b[1;36m1\u001b[0m\u001b[1;33m)\u001b[0m\u001b[1;33m*\u001b[0m\u001b[0mk\u001b[0m\u001b[1;33m,\u001b[0m \u001b[1;33m:\u001b[0m\u001b[1;33m]\u001b[0m\u001b[1;33m\u001b[0m\u001b[1;33m\u001b[0m\u001b[0m\n\u001b[0m\u001b[0;32m      3\u001b[0m \u001b[1;33m\u001b[0m\u001b[0m\n\u001b[0;32m      4\u001b[0m \u001b[0mnn\u001b[0m \u001b[1;33m=\u001b[0m \u001b[1;36m7\u001b[0m\u001b[1;33m\u001b[0m\u001b[1;33m\u001b[0m\u001b[0m\n\u001b[0;32m      5\u001b[0m \u001b[0mplt\u001b[0m\u001b[1;33m.\u001b[0m\u001b[0mfigure\u001b[0m\u001b[1;33m(\u001b[0m\u001b[0mfigsize\u001b[0m\u001b[1;33m=\u001b[0m\u001b[1;33m(\u001b[0m\u001b[0mnn\u001b[0m\u001b[1;33m,\u001b[0m \u001b[0mnn\u001b[0m\u001b[1;33m)\u001b[0m\u001b[1;33m)\u001b[0m\u001b[1;33m\u001b[0m\u001b[1;33m\u001b[0m\u001b[0m\n",
      "\u001b[1;31mTypeError\u001b[0m: 'NoneType' object is not subscriptable"
     ]
    }
   ],
   "source": [
    "i= 3\n",
    "img = image_vae2[:, k*i:(i+1)*k, :]\n",
    "\n",
    "nn = 7\n",
    "plt.figure(figsize=(nn, nn))\n",
    "plt.imshow(img)\n",
    "plt.axis('off')\n",
    "plt.show()"
   ]
  },
  {
   "cell_type": "markdown",
   "metadata": {},
   "source": [
    "#### GMVAE"
   ]
  },
  {
   "cell_type": "code",
   "execution_count": 30,
   "metadata": {},
   "outputs": [],
   "source": [
    "num_epochs = 10"
   ]
  },
  {
   "cell_type": "code",
   "execution_count": 31,
   "metadata": {},
   "outputs": [],
   "source": [
    "input_channels = 1\n",
    "intermediate_channels = 16\n",
    "dim_w = 16\n",
    "dim_z = 16\n",
    "n_components = 10\n",
    "output_dim = 128 * 128\n",
    "\n",
    "model = GMVAE(input_dim=output_dim, hidden_dim=intermediate_channels, z_dim=dim_z, n_components=n_components)\n",
    "optimizer = optim.Adam(model.parameters(), lr=1e-3)"
   ]
  },
  {
   "cell_type": "code",
   "execution_count": 32,
   "metadata": {},
   "outputs": [
    {
     "data": {
      "text/plain": [
       "<All keys matched successfully>"
      ]
     },
     "execution_count": 32,
     "metadata": {},
     "output_type": "execute_result"
    }
   ],
   "source": [
    "model.load_state_dict(torch.load('models/gmvae1.pth'))"
   ]
  },
  {
   "cell_type": "code",
   "execution_count": 545,
   "metadata": {},
   "outputs": [
    {
     "name": "stdout",
     "output_type": "stream",
     "text": [
      "Train Epoch: 0 [0/20998 (0%)]\tLoss: 13153.560547\n",
      "Train Epoch: 0 [12800/20998 (61%)]\tLoss: 4346.300781\n",
      "====> Epoch: 0 Average loss: 5679.0033\n",
      "Train Epoch: 1 [0/20998 (0%)]\tLoss: 2986.147461\n",
      "Train Epoch: 1 [12800/20998 (61%)]\tLoss: 2033.144653\n",
      "====> Epoch: 1 Average loss: 2269.1169\n",
      "Train Epoch: 2 [0/20998 (0%)]\tLoss: 1840.710693\n",
      "Train Epoch: 2 [12800/20998 (61%)]\tLoss: 1492.171265\n",
      "====> Epoch: 2 Average loss: 1698.8942\n",
      "Train Epoch: 3 [0/20998 (0%)]\tLoss: 1518.550903\n",
      "Train Epoch: 3 [12800/20998 (61%)]\tLoss: 1398.389648\n",
      "====> Epoch: 3 Average loss: 1535.3904\n",
      "Train Epoch: 4 [0/20998 (0%)]\tLoss: 1375.807129\n",
      "Train Epoch: 4 [12800/20998 (61%)]\tLoss: 1373.671753\n",
      "====> Epoch: 4 Average loss: 1468.8195\n",
      "Train Epoch: 5 [0/20998 (0%)]\tLoss: 1223.553467\n",
      "Train Epoch: 5 [12800/20998 (61%)]\tLoss: 1526.161621\n",
      "====> Epoch: 5 Average loss: 1434.8165\n",
      "Train Epoch: 6 [0/20998 (0%)]\tLoss: 1399.147461\n",
      "Train Epoch: 6 [12800/20998 (61%)]\tLoss: 1404.310913\n",
      "====> Epoch: 6 Average loss: 1416.9609\n",
      "Train Epoch: 7 [0/20998 (0%)]\tLoss: 1411.890503\n",
      "Train Epoch: 7 [12800/20998 (61%)]\tLoss: 1295.513062\n",
      "====> Epoch: 7 Average loss: 1404.8375\n",
      "Train Epoch: 8 [0/20998 (0%)]\tLoss: 1450.642456\n",
      "Train Epoch: 8 [12800/20998 (61%)]\tLoss: 1386.666870\n",
      "====> Epoch: 8 Average loss: 1396.1054\n",
      "Train Epoch: 9 [0/20998 (0%)]\tLoss: 1332.612793\n",
      "Train Epoch: 9 [12800/20998 (61%)]\tLoss: 1492.444458\n",
      "====> Epoch: 9 Average loss: 1390.2417\n",
      "Train Epoch: 10 [0/20998 (0%)]\tLoss: 1420.123535\n",
      "Train Epoch: 10 [12800/20998 (61%)]\tLoss: 1400.582520\n",
      "====> Epoch: 10 Average loss: 1385.4252\n",
      "Train Epoch: 11 [0/20998 (0%)]\tLoss: 1246.370972\n",
      "Train Epoch: 11 [12800/20998 (61%)]\tLoss: 1404.319458\n",
      "====> Epoch: 11 Average loss: 1383.9328\n",
      "Train Epoch: 12 [0/20998 (0%)]\tLoss: 1457.145508\n",
      "Train Epoch: 12 [12800/20998 (61%)]\tLoss: 1350.315186\n",
      "====> Epoch: 12 Average loss: 1380.9310\n",
      "Train Epoch: 13 [0/20998 (0%)]\tLoss: 1489.726685\n",
      "Train Epoch: 13 [12800/20998 (61%)]\tLoss: 1554.238892\n",
      "====> Epoch: 13 Average loss: 1377.8318\n",
      "Train Epoch: 14 [0/20998 (0%)]\tLoss: 1402.361572\n",
      "Train Epoch: 14 [12800/20998 (61%)]\tLoss: 1392.718994\n",
      "====> Epoch: 14 Average loss: 1375.6729\n",
      "Train Epoch: 15 [0/20998 (0%)]\tLoss: 1291.789062\n",
      "Train Epoch: 15 [12800/20998 (61%)]\tLoss: 1335.318237\n",
      "====> Epoch: 15 Average loss: 1374.8470\n",
      "Train Epoch: 16 [0/20998 (0%)]\tLoss: 1322.226685\n",
      "Train Epoch: 16 [12800/20998 (61%)]\tLoss: 1397.670532\n",
      "====> Epoch: 16 Average loss: 1372.6388\n",
      "Train Epoch: 17 [0/20998 (0%)]\tLoss: 1353.014648\n",
      "Train Epoch: 17 [12800/20998 (61%)]\tLoss: 1264.956299\n",
      "====> Epoch: 17 Average loss: 1372.1201\n",
      "Train Epoch: 18 [0/20998 (0%)]\tLoss: 1298.951904\n",
      "Train Epoch: 18 [12800/20998 (61%)]\tLoss: 1452.506592\n",
      "====> Epoch: 18 Average loss: 1371.2561\n",
      "Train Epoch: 19 [0/20998 (0%)]\tLoss: 1355.485718\n",
      "Train Epoch: 19 [12800/20998 (61%)]\tLoss: 1481.502930\n",
      "====> Epoch: 19 Average loss: 1369.4327\n"
     ]
    }
   ],
   "source": [
    "losses = []\n",
    "for epoch in range(num_epochs):\n",
    "    losses.append(train_gmvae(epoch, model, train_loader_normal))"
   ]
  },
  {
   "cell_type": "code",
   "execution_count": 547,
   "metadata": {},
   "outputs": [],
   "source": [
    "torch.save(model.state_dict(), 'models/gmvae1.pth')"
   ]
  },
  {
   "cell_type": "code",
   "execution_count": 546,
   "metadata": {},
   "outputs": [
    {
     "data": {
      "text/plain": [
       "[<matplotlib.lines.Line2D at 0x20e054443a0>]"
      ]
     },
     "execution_count": 546,
     "metadata": {},
     "output_type": "execute_result"
    },
    {
     "data": {
      "image/png": "[encoded data removed]",
      "text/plain": [
       "<Figure size 432x288 with 1 Axes>"
      ]
     },
     "metadata": {
      "needs_background": "light"
     },
     "output_type": "display_data"
    }
   ],
   "source": [
    "plt.plot(losses)"
   ]
  },
  {
   "cell_type": "code",
   "execution_count": null,
   "metadata": {},
   "outputs": [],
   "source": [
    "img_name = 'gmvae1'\n",
    "test_loss, auc_all, auprc_all, dice_coef_all = test_gmvae(model, bad, mask_bad, tresh = 0.1, dim_kernel = 3, iter_morph = 2, name_img = img_name, plot_pic = True)"
   ]
  }
 ],
 "metadata": {
  "kernelspec": {
   "display_name": "base",
   "language": "python",
   "name": "python3"
  },
  "language_info": {
   "codemirror_mode": {
    "name": "ipython",
    "version": 3
   },
   "file_extension": ".py",
   "mimetype": "text/x-python",
   "name": "python",
   "nbconvert_exporter": "python",
   "pygments_lexer": "ipython3",
   "version": "3.8.8"
  }
 },
 "nbformat": 4,
 "nbformat_minor": 2
}
